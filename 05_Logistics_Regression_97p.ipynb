{
 "cells": [
  {
   "cell_type": "code",
   "execution_count": 1,
   "metadata": {},
   "outputs": [
    {
     "data": {
      "text/plain": [
       "(-0.1, 1.1)"
      ]
     },
     "execution_count": 1,
     "metadata": {},
     "output_type": "execute_result"
    },
    {
     "data": {
      "image/png": "[encoded data removed]",
      "text/plain": [
       "<Figure size 432x288 with 1 Axes>"
      ]
     },
     "metadata": {
      "needs_background": "light"
     },
     "output_type": "display_data"
    }
   ],
   "source": [
    "import numpy as np\n",
    "import pandas as pd\n",
    "import matplotlib.pyplot as plt\n",
    "\n",
    "#공부시간 X와 성적 Y의 리스트를 만듭니다.\n",
    "data = [[2, 0], [4, 0], [6, 0], [8, 1], [10, 1], [12, 1], [14, 1]]\n",
    "\n",
    "x_data = [i[0] for i in data]\n",
    "y_data = [i[1] for i in data]\n",
    "\n",
    "#그래프로 나타내 봅니다.\n",
    "plt.scatter(x_data, y_data)\n",
    "plt.xlim(0, 15)\n",
    "plt.ylim(-.1, 1.1)"
   ]
  },
  {
   "cell_type": "code",
   "execution_count": 2,
   "metadata": {},
   "outputs": [
    {
     "name": "stdout",
     "output_type": "stream",
     "text": [
      "epoch=0, 기울기=-0.0500, 절편=-0.0250\n",
      "epoch=0, 기울기=-0.1388, 절편=-0.0472\n",
      "epoch=0, 기울기=-0.2268, 절편=-0.0619\n",
      "epoch=0, 기울기=0.1201, 절편=-0.0185\n",
      "epoch=0, 기울기=0.2374, 절편=-0.0068\n",
      "epoch=0, 기울기=0.2705, 절편=-0.0040\n",
      "epoch=0, 기울기=0.2860, 절편=-0.0029\n",
      "epoch=1000, 기울기=1.4978, 절편=-9.9401\n",
      "epoch=1000, 기울기=1.4940, 절편=-9.9411\n",
      "epoch=1000, 기울기=1.4120, 절편=-9.9547\n",
      "epoch=1000, 기울기=1.4949, 절편=-9.9444\n",
      "epoch=1000, 기울기=1.4982, 절편=-9.9440\n",
      "epoch=1000, 기울기=1.4984, 절편=-9.9440\n",
      "epoch=1000, 기울기=1.4985, 절편=-9.9440\n",
      "epoch=2000, 기울기=1.9065, 절편=-12.9489\n",
      "epoch=2000, 기울기=1.9055, 절편=-12.9491\n",
      "epoch=2000, 기울기=1.8515, 절편=-12.9581\n",
      "epoch=2000, 기울기=1.9057, 절편=-12.9514\n",
      "epoch=2000, 기울기=1.9068, 절편=-12.9513\n",
      "epoch=2000, 기울기=1.9068, 절편=-12.9513\n",
      "epoch=2000, 기울기=1.9068, 절편=-12.9513\n"
     ]
    }
   ],
   "source": [
    "# 기울기 a와 절편 b의 값을 초기화 합니다.\n",
    "a = 0\n",
    "b = 0\n",
    "\n",
    "#학습률을 정합니다.\n",
    "lr = 0.05 \n",
    "\n",
    "#시그모이드 함수를 정의합니다.\n",
    "def sigmoid(x):\n",
    "    return 1 / (1 + np.e ** (-x))\n",
    "\n",
    "#경사 하강법을 실행합니다.\n",
    "for i in range(2001):\n",
    "    for x_data, y_data in data:\n",
    "        a_diff = x_data*(sigmoid(a*x_data + b) - y_data) \n",
    "        b_diff = sigmoid(a*x_data + b) - y_data\n",
    "        a = a - lr * a_diff\n",
    "        b = b - lr * b_diff\n",
    "        if i % 1000 == 0:    # 1000번 반복될 때마다 각 x_data값에 대한 현재의 a값, b값을 출력합니다.\n",
    "            print(\"epoch=%.f, 기울기=%.04f, 절편=%.04f\" % (i, a, b))\n"
   ]
  },
  {
   "cell_type": "code",
   "execution_count": 3,
   "metadata": {},
   "outputs": [
    {
     "data": {
      "image/png": "[encoded data removed]",
      "text/plain": [
       "<Figure size 432x288 with 1 Axes>"
      ]
     },
     "metadata": {
      "needs_background": "light"
     },
     "output_type": "display_data"
    }
   ],
   "source": [
    "# 앞서 구한 기울기와 절편을 이용해 그래프를 그려 봅니다.\n",
    "plt.scatter(x_data, y_data)\n",
    "plt.xlim(0, 15)\n",
    "plt.ylim(-.1, 1.1)\n",
    "x_range = (np.arange(0, 15, 0.1)) #그래프로 나타낼 x값의 범위를 정합니다.\n",
    "plt.plot(np.arange(0, 15, 0.1), np.array([sigmoid(a*x + b) for x in x_range]))\n",
    "plt.show()"
   ]
  },
  {
   "cell_type": "code",
   "execution_count": null,
   "metadata": {},
   "outputs": [],
   "source": []
  }
 ],
 "metadata": {
  "kernelspec": {
   "display_name": "Python 3",
   "language": "python",
   "name": "python3"
  },
  "language_info": {
   "codemirror_mode": {
    "name": "ipython",
    "version": 3
   },
   "file_extension": ".py",
   "mimetype": "text/x-python",
   "name": "python",
   "nbconvert_exporter": "python",
   "pygments_lexer": "ipython3",
   "version": "3.7.6"
  }
 },
 "nbformat": 4,
 "nbformat_minor": 4
}
